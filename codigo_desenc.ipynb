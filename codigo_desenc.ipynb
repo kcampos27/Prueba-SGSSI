{
 "cells": [
  {
   "metadata": {
    "ExecuteTime": {
     "end_time": "2025-09-22T18:46:40.138485Z",
     "start_time": "2025-09-22T18:46:40.135255Z"
    }
   },
   "cell_type": "code",
   "source": [
    "from collections import Counter\n",
    "import re\n",
    "\n",
    "texto = \"\"\"RIJ AZKKZHC PIKCE XT ACKCUXJHX SZX, E NZ PEJXKE, PXGIK XFDKXNEQE RIPI RIPQEHCK ET OENRCNPI AXNAX ZJ RKCHXKCI AX CJAXDXJAXJRCE\n",
    "AX RTENX, E ACOXKXJRCE AXT RITEQIKERCIJCNPI OKXJHXDIDZTCNHE AX TE ACKXRRCIJ EJEKSZCNHE.\n",
    "AZKKZHC OZX ZJ OERHIK AX DKCPXK IKAXJ XJ XT DEDXT AX TE RTENX IQKXKE XJ REHETZJVE XJ GZTCI AX 1936. DXKI AZKKZHC, RIPI IRZKKX RIJ\n",
    "TEN DXKNIJETCAEAXN XJ TE MCNHIKCE, JI REVI AXT RCXTI. DXKNIJCOCREQE TE HKEACRCIJ KXvITZRCIJEKCE AX TE RTENX IQKXKE. NZ XJIKPX\n",
    "DIDZTEKCAEA XJHKX TE RTENX HKEQEGEAIKE, KXOTXGEAE XJ XT XJHCXKKI PZTHCHZACJEKCI XJ QEKRXTIJE XT 22 AX JIvCXPQKX AX 1936,\n",
    "PZXNHKE XNE CAXJHCOCRERCIJ. NZ PZXKHX OZX NCJ AZAE ZJ UITDX IQGXHCvI ET DKIRXNI KXvITZRCIJEKCI XJ PEKRME. NCJ AZKKZHC SZXAI PEN\n",
    "TCQKX XT REPCJI DEKE SZX XT XNHETCJCNPI, RIJ TE RIPDTCRCAEA AXT UIQCXKJI AXT OKXJHX DIDZTEK V AX TE ACKXRRCIJ EJEKSZCNHE,\n",
    "HXKPCJEKE XJ PEVI AX 1937 TE HEKXE AX TCSZCAEK TE KXvITZRCIJ, AXNPIKETCLEJAI E TE RTENX IQKXKE V OERCTCHEJAI RIJ XTTI XT DINHXKCIK\n",
    "HKCZJOI OKEJSZCNHE.\"\"\"\n",
    "# Contar letras\n",
    "texto = texto.upper()\n",
    "solo_letras = re.findall(r'[A-ZÑ]', texto)\n",
    "conteo = Counter(solo_letras)\n",
    "\n",
    "# Mostrar frecuencias ordenadas\n",
    "total = sum(conteo.values())\n",
    "num_letras = 0\n",
    "cadena_letras=\"\"\n",
    "for letra, freq in conteo.most_common():\n",
    "    print(f\"{letra}: {freq/total*100:.2f}%\")\n",
    "    num_letras=num_letras+1\n",
    "    cadena_letras=cadena_letras+letra\n",
    "print(f\"Total de letras: {num_letras}\")\n",
    "print(f\"Cadena de letras: {cadena_letras}\")"
   ],
   "id": "8733383cac7ce09e",
   "outputs": [
    {
     "name": "stdout",
     "output_type": "stream",
     "text": [
      "X: 12.81%\n",
      "E: 11.69%\n",
      "K: 9.20%\n",
      "I: 8.71%\n",
      "C: 8.46%\n",
      "J: 6.84%\n",
      "T: 6.72%\n",
      "A: 5.85%\n",
      "R: 5.10%\n",
      "Z: 4.73%\n",
      "H: 3.98%\n",
      "N: 3.98%\n",
      "P: 2.74%\n",
      "D: 2.36%\n",
      "Q: 1.62%\n",
      "O: 1.62%\n",
      "V: 1.24%\n",
      "S: 0.87%\n",
      "G: 0.62%\n",
      "U: 0.37%\n",
      "M: 0.25%\n",
      "F: 0.12%\n",
      "L: 0.12%\n",
      "Total de letras: 23\n",
      "Cadena de letras: XEKICJTARZHNPDQOVSGUMFL\n"
     ]
    }
   ],
   "execution_count": 3
  },
  {
   "metadata": {
    "ExecuteTime": {
     "end_time": "2025-09-22T19:24:22.227797Z",
     "start_time": "2025-09-22T19:24:22.225654Z"
    }
   },
   "cell_type": "code",
   "source": [
    "# letras más frecuentes en castellano\n",
    "freq_castellano = \"-----------------------\"\n",
    "\n",
    "# letras más frecuentes en el texto cifrado\n",
    "freq_cifrado =    \"XEKICJTARZHNPDQOVSGUMFL\"\n",
    "\n",
    "# crear mapeo\n",
    "mapeo = {c: p for c, p in zip(freq_cifrado, freq_castellano)}\n",
    "\n"
   ],
   "id": "2a15c6058506a133",
   "outputs": [],
   "execution_count": 133
  },
  {
   "metadata": {
    "ExecuteTime": {
     "end_time": "2025-09-22T19:24:31.115388Z",
     "start_time": "2025-09-22T19:24:31.112522Z"
    }
   },
   "cell_type": "code",
   "source": [
    "mapeo['X'] = 'E'\n",
    "mapeo['A'] = 'D'\n",
    "mapeo['I'] = 'O'\n",
    "mapeo['E'] = 'A'"
   ],
   "id": "ad12e1e7a0639b82",
   "outputs": [],
   "execution_count": 135
  },
  {
   "metadata": {
    "ExecuteTime": {
     "end_time": "2025-09-22T19:24:32.211126Z",
     "start_time": "2025-09-22T19:24:32.208534Z"
    }
   },
   "cell_type": "code",
   "source": [
    "def descifrar(texto, mapeo):\n",
    "    resultado = \"\"\n",
    "    for ch in texto:\n",
    "        if ch in mapeo:\n",
    "            resultado += mapeo[ch]\n",
    "        else:\n",
    "            resultado += ch\n",
    "    return resultado\n",
    "\n",
    "descifrado = descifrar(texto, mapeo)\n",
    "print(descifrado)"
   ],
   "id": "35453e2b9c87a282",
   "outputs": [
    {
     "name": "stdout",
     "output_type": "stream",
     "text": [
      "-O- D------ -O--A E- D----E--E --E, A -- -A-E-A, -E-O- E---E-A-A -O-O -O--A--- A- -A-----O DE-DE -- ----E--O DE --DE-E-DE---A\n",
      "DE --A-E, A D--E-E---A DE- -O-A-O-A--O----O --E--E-O------A DE -A D--E---O- A-A------A.\n",
      "D------ --E -- -A--O- DE ----E- O-DE- E- E- -A-E- DE -A --A-E O--E-A E- -A-A----A E- ----O DE 1936. -E-O D------, -O-O O----E -O-\n",
      "-A- -E--O-A--DADE- E- -A ----O--A, -O -A-O DE- --E-O. -E--O-----A-A -A --AD---O- -E-O----O-A--A DE -A --A-E O--E-A. -- E-O--E\n",
      "-O---A--DAD E---E -A --A-E --A-A-ADO-A, -E--E-ADA E- E- E---E--O -------D--A--O E- -A--E-O-A E- 22 DE -O--E---E DE 1936,\n",
      "--E---A E-A -DE------A--O-. -- --E--E --E --- D-DA -- -O--E O--E---O A- --O-E-O -E-O----O-A--O E- -A---A. --- D------ --EDO -A-\n",
      "----E E- -A---O -A-A --E E- E--A------O, -O- -A -O------DAD DE- -O--E--O DE- --E--E -O---A- - DE -A D--E---O- A-A------A,\n",
      "-E----A-A E- -A-O DE 1937 -A -A-EA DE -----DA- -A -E-O----O-, DE--O-A---A-DO A -A --A-E O--E-A - -A-----A-DO -O- E--O E- -O--E--O-\n",
      "------O --A------A.\n"
     ]
    }
   ],
   "execution_count": 136
  },
  {
   "metadata": {
    "ExecuteTime": {
     "end_time": "2025-09-22T19:29:17.562284Z",
     "start_time": "2025-09-22T19:29:17.559728Z"
    }
   },
   "cell_type": "code",
   "source": [
    "mapeo['N'] = 'S'\n",
    "mapeo['J'] = 'N'\n",
    "mapeo['V'] = 'V'\n",
    "descifrado = descifrar(texto, mapeo)\n",
    "print(descifrado)"
   ],
   "id": "cde568f3f03b5801",
   "outputs": [
    {
     "name": "stdout",
     "output_type": "stream",
     "text": [
      "CON D-RR--I MORIA EL DIRIFEN-E F-E, A S- MANERA, ME-OR E-PRESABA COMO COMBA-IR AL -ASCISMO DESDE -N CRI-ERIO DE INDEPENDENCIA\n",
      "DE CLASE, A DI-ERENCIA DEL COLABORACIONISMO -REN-EPOP-LIS-A DE LA DIRECCION ANARF-IS-A.\n",
      "D-RR--I --E -N -AC-OR DE PRIMER ORDEN EN EL PAPEL DE LA CLASE OBRERA EN CA-AL-NVA EN --LIO DE 1936. PERO D-RR--I, COMO OC-RRE CON\n",
      "LAS PERSONALIDADES EN LA -IS-ORIA, NO CAVO DEL CIELO. PERSONI-ICABA LA -RADICION REVOL-CIONARIA DE LA CLASE OBRERA. S- ENORME\n",
      "POP-LARIDAD EN-RE LA CLASE -RABA-ADORA, RE-LE-ADA EN EL EN-IERRO M-L-I--DINARIO EN BARCELONA EL 22 DE NOVIEMBRE DE 1936,\n",
      "M-ES-RA ESA IDEN-I-ICACION. S- M-ER-E --E SIN D-DA -N FOLPE OB-E-IVO AL PROCESO REVOL-CIONARIO EN MARC-A. SIN D-RR--I F-EDO MAS\n",
      "LIBRE EL CAMINO PARA F-E EL ES-ALINISMO, CON LA COMPLICIDAD DEL FOBIERNO DEL -REN-E POP-LAR V DE LA DIRECCION ANARF-IS-A,\n",
      "-ERMINARA EN MAVO DE 1937 LA -AREA DE LIF-IDAR LA REVOL-CION, DESMORALIFANDO A LA CLASE OBRERA V -ACILI-ANDO CON ELLO EL POS-ERIOR\n",
      "-RI-N-O -RANF-IS-A.\n"
     ]
    }
   ],
   "execution_count": 146
  },
  {
   "metadata": {
    "ExecuteTime": {
     "end_time": "2025-09-22T19:29:18.806357Z",
     "start_time": "2025-09-22T19:29:18.803896Z"
    }
   },
   "cell_type": "code",
   "source": [
    "mapeo['C'] = 'I'\n",
    "mapeo['J'] = 'N'\n",
    "mapeo['P'] = 'M'\n",
    "mapeo['Q'] = 'B'\n",
    "mapeo['K'] = 'R'\n",
    "descifrado = descifrar(texto, mapeo)\n",
    "print(descifrado)"
   ],
   "id": "2738ad4e5294afe0",
   "outputs": [
    {
     "name": "stdout",
     "output_type": "stream",
     "text": [
      "CON D-RR--I MORIA EL DIRIFEN-E F-E, A S- MANERA, ME-OR E-PRESABA COMO COMBA-IR AL -ASCISMO DESDE -N CRI-ERIO DE INDEPENDENCIA\n",
      "DE CLASE, A DI-ERENCIA DEL COLABORACIONISMO -REN-EPOP-LIS-A DE LA DIRECCION ANARF-IS-A.\n",
      "D-RR--I --E -N -AC-OR DE PRIMER ORDEN EN EL PAPEL DE LA CLASE OBRERA EN CA-AL-NVA EN --LIO DE 1936. PERO D-RR--I, COMO OC-RRE CON\n",
      "LAS PERSONALIDADES EN LA -IS-ORIA, NO CAVO DEL CIELO. PERSONI-ICABA LA -RADICION REVOL-CIONARIA DE LA CLASE OBRERA. S- ENORME\n",
      "POP-LARIDAD EN-RE LA CLASE -RABA-ADORA, RE-LE-ADA EN EL EN-IERRO M-L-I--DINARIO EN BARCELONA EL 22 DE NOVIEMBRE DE 1936,\n",
      "M-ES-RA ESA IDEN-I-ICACION. S- M-ER-E --E SIN D-DA -N FOLPE OB-E-IVO AL PROCESO REVOL-CIONARIO EN MARC-A. SIN D-RR--I F-EDO MAS\n",
      "LIBRE EL CAMINO PARA F-E EL ES-ALINISMO, CON LA COMPLICIDAD DEL FOBIERNO DEL -REN-E POP-LAR V DE LA DIRECCION ANARF-IS-A,\n",
      "-ERMINARA EN MAVO DE 1937 LA -AREA DE LIF-IDAR LA REVOL-CION, DESMORALIFANDO A LA CLASE OBRERA V -ACILI-ANDO CON ELLO EL POS-ERIOR\n",
      "-RI-N-O -RANF-IS-A.\n"
     ]
    }
   ],
   "execution_count": 147
  },
  {
   "metadata": {
    "ExecuteTime": {
     "end_time": "2025-09-22T20:14:24.136518Z",
     "start_time": "2025-09-22T20:14:24.133409Z"
    }
   },
   "cell_type": "code",
   "source": [
    "mapeo['R'] = 'C'\n",
    "mapeo['D'] = 'P'\n",
    "mapeo['T'] = 'L'\n",
    "mapeo['L'] = 'Z'\n",
    "mapeo['Z'] = 'U'\n",
    "mapeo['G'] = 'J'\n",
    "mapeo['H'] = 'T'\n",
    "mapeo['U'] = 'G'\n",
    "mapeo['S'] = 'Q'\n",
    "mapeo['M'] = 'H'\n",
    "mapeo['O'] = 'F'\n",
    "mapeo['F'] = 'X'\n",
    "descifrado = descifrar(texto, mapeo)\n",
    "print(descifrado)"
   ],
   "id": "3f99c9a521245ef5",
   "outputs": [
    {
     "name": "stdout",
     "output_type": "stream",
     "text": [
      "CON DURRUTI MORIA EL DIRIGENTE QUE, A SU MANERA, MEJOR EXPRESABA COMO COMBATIR AL FASCISMO DESDE UN CRITERIO DE INDEPENDENCIA\n",
      "DE CLASE, A DIFERENCIA DEL COLABORACIONISMO FRENTEPOPULISTA DE LA DIRECCION ANARQUISTA.\n",
      "DURRUTI FUE UN FACTOR DE PRIMER ORDEN EN EL PAPEL DE LA CLASE OBRERA EN CATALUNVA EN JULIO DE 1936. PERO DURRUTI, COMO OCURRE CON\n",
      "LAS PERSONALIDADES EN LA HISTORIA, NO CAVO DEL CIELO. PERSONIFICABA LA TRADICION REVOLUCIONARIA DE LA CLASE OBRERA. SU ENORME\n",
      "POPULARIDAD ENTRE LA CLASE TRABAJADORA, REFLEJADA EN EL ENTIERRO MULTITUDINARIO EN BARCELONA EL 22 DE NOVIEMBRE DE 1936,\n",
      "MUESTRA ESA IDENTIFICACION. SU MUERTE FUE SIN DUDA UN GOLPE OBJETIVO AL PROCESO REVOLUCIONARIO EN MARCHA. SIN DURRUTI QUEDO MAS\n",
      "LIBRE EL CAMINO PARA QUE EL ESTALINISMO, CON LA COMPLICIDAD DEL GOBIERNO DEL FRENTE POPULAR V DE LA DIRECCION ANARQUISTA,\n",
      "TERMINARA EN MAVO DE 1937 LA TAREA DE LIQUIDAR LA REVOLUCION, DESMORALIZANDO A LA CLASE OBRERA V FACILITANDO CON ELLO EL POSTERIOR\n",
      "TRIUNFO FRANQUISTA.\n"
     ]
    }
   ],
   "execution_count": 166
  }
 ],
 "metadata": {
  "kernelspec": {
   "name": "python3",
   "language": "python",
   "display_name": "Python 3 (ipykernel)"
  }
 },
 "nbformat": 4,
 "nbformat_minor": 5
}
